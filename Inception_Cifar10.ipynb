{
  "nbformat": 4,
  "nbformat_minor": 0,
  "metadata": {
    "colab": {
      "name": "Inception_Cifar10",
      "version": "0.3.2",
      "provenance": []
    },
    "kernelspec": {
      "name": "python3",
      "display_name": "Python 3"
    }
  },
  "cells": [
    {
      "cell_type": "code",
      "metadata": {
        "id": "fxS_2nr2-wMd",
        "colab_type": "code",
        "colab": {}
      },
      "source": [
        "import tensorflow as tf\n",
        "import matplotlib.pyplot as plt"
      ],
      "execution_count": 0,
      "outputs": []
    },
    {
      "cell_type": "code",
      "metadata": {
        "id": "2UJb39GL-8HC",
        "colab_type": "code",
        "colab": {}
      },
      "source": [
        "(xtrain, xtest), (ytrain, ytest) = tf.keras.datasets.cifar10.load_data()"
      ],
      "execution_count": 0,
      "outputs": []
    },
    {
      "cell_type": "code",
      "metadata": {
        "id": "pfSd_XXe_Jsn",
        "colab_type": "code",
        "colab": {}
      },
      "source": [
        "xtrain = xtrain.astype(\"float32\")\n",
        "xtest = xtest.astype(\"float32\")\n",
        "\n",
        "xtrain= xtrain/255.0\n",
        "xtest = xtest/255.0"
      ],
      "execution_count": 0,
      "outputs": []
    },
    {
      "cell_type": "code",
      "metadata": {
        "id": "7Tveor3T_itn",
        "colab_type": "code",
        "colab": {}
      },
      "source": [
        "ytrain = tf.keras.utils.to_categorical(ytrain)\n",
        "ytest = tf.keras.utils.to_categorical(ytest)"
      ],
      "execution_count": 0,
      "outputs": []
    },
    {
      "cell_type": "code",
      "metadata": {
        "id": "mZfFQwSb_4Yw",
        "colab_type": "code",
        "colab": {}
      },
      "source": [
        "def inception_model(width, height, depth, num_classes):\n",
        "  \n",
        "  inputs = tf.keras.Input(shape=(width, height, depth))\n",
        "\n",
        "  tower1 = tf.keras.layers.Conv2D(64, (1, 1), padding=\"same\", activation=\"relu\")(inputs)\n",
        "  tower1 = tf.keras.layers.Conv2D(64, (3, 3), padding=\"same\", activation=\"relu\")(tower1)\n",
        "\n",
        "  tower2 = tf.keras.layers.Conv2D(64, (1, 1), padding=\"same\", activation=\"relu\")(tower1)\n",
        "  tower2 = tf.keras.layers.Conv2D(64, (5, 5), padding=\"same\", activation=\"relu\")(tower2)\n",
        "\n",
        "  tower3 = tf.keras.layers.MaxPool2D((3, 3), strides=(1, 1), padding=\"same\")(tower2)\n",
        "  tower3 = tf.keras.layers.Conv2D(64, (1, 1), padding=\"same\", activation=\"relu\")(tower3)\n",
        "\n",
        "  output = tf.keras.layers.concatenate([tower1, tower2, tower3], axis=3)\n",
        "\n",
        "  output = tf.keras.layers.Flatten()(output)\n",
        "  output = tf.keras.layers.Dense(num_classes, activation=\"softmax\")(output)\n",
        "\n",
        "  model = tf.keras.Model(inputs=inputs, outputs=output, name=\"inception_model\")\n",
        "  return model"
      ],
      "execution_count": 0,
      "outputs": []
    },
    {
      "cell_type": "code",
      "metadata": {
        "id": "c1FKCl2jCDpc",
        "colab_type": "code",
        "outputId": "ab5c2e86-9545-4d79-be9c-1da979ff189b",
        "colab": {
          "base_uri": "https://localhost:8080/",
          "height": 615
        }
      },
      "source": [
        "model = inception_model(32, 32, 3, 10)\n",
        "model.summary()"
      ],
      "execution_count": 0,
      "outputs": [
        {
          "output_type": "stream",
          "text": [
            "WARNING: Logging before flag parsing goes to stderr.\n",
            "W0714 19:58:43.021866 140140499781504 deprecation.py:506] From /usr/local/lib/python3.6/dist-packages/tensorflow/python/ops/init_ops.py:1251: calling VarianceScaling.__init__ (from tensorflow.python.ops.init_ops) with dtype is deprecated and will be removed in a future version.\n",
            "Instructions for updating:\n",
            "Call initializer instance with the dtype argument instead of passing it to the constructor\n"
          ],
          "name": "stderr"
        },
        {
          "output_type": "stream",
          "text": [
            "Model: \"inception_model\"\n",
            "__________________________________________________________________________________________________\n",
            "Layer (type)                    Output Shape         Param #     Connected to                     \n",
            "==================================================================================================\n",
            "input_1 (InputLayer)            [(None, 32, 32, 3)]  0                                            \n",
            "__________________________________________________________________________________________________\n",
            "conv2d (Conv2D)                 (None, 32, 32, 64)   256         input_1[0][0]                    \n",
            "__________________________________________________________________________________________________\n",
            "conv2d_1 (Conv2D)               (None, 32, 32, 64)   36928       conv2d[0][0]                     \n",
            "__________________________________________________________________________________________________\n",
            "conv2d_2 (Conv2D)               (None, 32, 32, 64)   4160        conv2d_1[0][0]                   \n",
            "__________________________________________________________________________________________________\n",
            "conv2d_3 (Conv2D)               (None, 32, 32, 64)   102464      conv2d_2[0][0]                   \n",
            "__________________________________________________________________________________________________\n",
            "max_pooling2d (MaxPooling2D)    (None, 32, 32, 64)   0           conv2d_3[0][0]                   \n",
            "__________________________________________________________________________________________________\n",
            "conv2d_4 (Conv2D)               (None, 32, 32, 64)   4160        max_pooling2d[0][0]              \n",
            "__________________________________________________________________________________________________\n",
            "concatenate (Concatenate)       (None, 32, 32, 192)  0           conv2d_1[0][0]                   \n",
            "                                                                 conv2d_3[0][0]                   \n",
            "                                                                 conv2d_4[0][0]                   \n",
            "__________________________________________________________________________________________________\n",
            "flatten (Flatten)               (None, 196608)       0           concatenate[0][0]                \n",
            "__________________________________________________________________________________________________\n",
            "dense (Dense)                   (None, 10)           1966090     flatten[0][0]                    \n",
            "==================================================================================================\n",
            "Total params: 2,114,058\n",
            "Trainable params: 2,114,058\n",
            "Non-trainable params: 0\n",
            "__________________________________________________________________________________________________\n"
          ],
          "name": "stdout"
        }
      ]
    },
    {
      "cell_type": "code",
      "metadata": {
        "id": "usvXGBUtCIiu",
        "colab_type": "code",
        "colab": {}
      },
      "source": [
        "epochs = 25\n",
        "lrate = 0.01\n",
        "decay = lrate/epochs\n",
        "sgd = tf.keras.optimizers.SGD(lr=lrate, momentum=0.9, decay=decay, nesterov=False)\n",
        "model.compile(optimizer=sgd, loss=\"categorical_crossentropy\", metrics=[\"accuracy\"])"
      ],
      "execution_count": 0,
      "outputs": []
    },
    {
      "cell_type": "code",
      "metadata": {
        "id": "cplf996YDxaO",
        "colab_type": "code",
        "colab": {}
      },
      "source": [
        "history = model.fit(xtrain, xtest, batch_size=32, epochs=epochs)"
      ],
      "execution_count": 0,
      "outputs": []
    }
  ]
}